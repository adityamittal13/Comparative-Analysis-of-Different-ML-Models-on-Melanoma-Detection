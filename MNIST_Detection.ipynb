{
  "nbformat": 4,
  "nbformat_minor": 0,
  "metadata": {
    "colab": {
      "name": "MNIST Detection.ipynb",
      "provenance": [],
      "collapsed_sections": [],
      "authorship_tag": "ABX9TyPYHnO6voKkfD4HvvfszCuG",
      "include_colab_link": true
    },
    "kernelspec": {
      "name": "python3",
      "display_name": "Python 3"
    },
    "accelerator": "GPU"
  },
  "cells": [
    {
      "cell_type": "markdown",
      "metadata": {
        "id": "view-in-github",
        "colab_type": "text"
      },
      "source": [
        "<a href=\"https://colab.research.google.com/github/adityamittal13/Semisupervised-GANs-for-Melanoma-Detection/blob/main/MNIST_Detection.ipynb\" target=\"_parent\"><img src=\"https://colab.research.google.com/assets/colab-badge.svg\" alt=\"Open In Colab\"/></a>"
      ]
    },
    {
      "cell_type": "code",
      "metadata": {
        "id": "asTqI4pQKSzA",
        "outputId": "11fbb929-c418-43f9-bea5-883e64d387b3",
        "colab": {
          "base_uri": "https://localhost:8080/"
        }
      },
      "source": [
        "import matplotlib.pyplot as plt\n",
        "%matplotlib inline\n",
        "\n",
        "import numpy as np\n",
        "\n",
        "import torch\n",
        "import torch.nn as nn\n",
        "import torch.nn.functional as F\n",
        "import torch.optim as optim\n",
        "from torch.utils.data import DataLoader, Dataset\n",
        "\n",
        "import torchvision\n",
        "import torchvision.transforms as transforms\n",
        "\n",
        "import matplotlib.pyplot as plt\n",
        "\n",
        "if torch.cuda.is_available():\n",
        "   print(\"Your Colab notebook is configured to run on the GPU!\")\n",
        "else:\n",
        "   print(\"If you see this message, your Colab notebook is currently running on the CPU. Click the Runtime dropdown menu, select Change runtime type, and  choose GPU in the list of Hardware accelerators\")\n",
        "\n",
        "device = torch.device('cuda:0' if torch.cuda.is_available() else 'cpu')"
      ],
      "execution_count": 65,
      "outputs": [
        {
          "output_type": "stream",
          "text": [
            "Your Colab notebook is configured to run on the GPU!\n"
          ],
          "name": "stdout"
        }
      ]
    },
    {
      "cell_type": "code",
      "metadata": {
        "id": "ZWiiCIFVLVbg"
      },
      "source": [
        "# !pip install python\n",
        "# !pip install torchvision\n",
        "# !pip install torchvision\n",
        "# !pip install numpy\n",
        "# !pip install sklearn\n",
        "# !pip install matplotlib"
      ],
      "execution_count": 66,
      "outputs": []
    },
    {
      "cell_type": "code",
      "metadata": {
        "id": "FrHzywKHTYnc",
        "outputId": "4650171a-93d3-49b8-96c8-bbb36f8b9814",
        "colab": {
          "base_uri": "https://localhost:8080/"
        }
      },
      "source": [
        "# Hyperparameters \n",
        "\n",
        "n_epochs = 3\n",
        "batch_size_train = 64\n",
        "batch_size_test = 1000\n",
        "learning_rate = 0.01\n",
        "momentum = 0.5\n",
        "log_interval = 10 # Logarithm interval used for scaling hyperparameters up and down\n",
        "\n",
        "random_seed = 1\n",
        "torch.backends.cudnn.enabled = False # Algorithms that will produce a different output for the same input are called nondeterministic algorithms - disabled this here\n",
        "torch.manual_seed(random_seed) # Made a random seed to be used later in the code"
      ],
      "execution_count": 67,
      "outputs": [
        {
          "output_type": "execute_result",
          "data": {
            "text/plain": [
              "<torch._C.Generator at 0x7f890aba55b8>"
            ]
          },
          "metadata": {
            "tags": []
          },
          "execution_count": 67
        }
      ]
    },
    {
      "cell_type": "code",
      "metadata": {
        "id": "ECOyxRpUTfqd"
      },
      "source": [
        "# Loading in the training dataset\n",
        "train_loader = torch.utils.data.DataLoader(\n",
        "  torchvision.datasets.MNIST('/files/', train=True, download=True,\n",
        "                             transform=torchvision.transforms.Compose([\n",
        "                               torchvision.transforms.ToTensor(), # Converting dataset into a tensor for later use\n",
        "                               torchvision.transforms.Normalize( # Normalizing the tensor with regards to the global mean and standard deviation for the MNIST dataset\n",
        "                                 (0.1307,), (0.3081,))\n",
        "                             ])),\n",
        "  batch_size=batch_size_train, shuffle=True)\n",
        "\n",
        "# Loading in the testing dataset\n",
        "test_loader = torch.utils.data.DataLoader(\n",
        "  torchvision.datasets.MNIST('/files/', train=False, download=True,\n",
        "                             transform=torchvision.transforms.Compose([\n",
        "                               torchvision.transforms.ToTensor(), # Converting dataset to tensor for later use\n",
        "                               torchvision.transforms.Normalize( # Normalizing the tensor with regards to the global mean and standard deviation for the MNIST dataset\n",
        "                                 (0.1307,), (0.3081,))\n",
        "                             ])),\n",
        "  batch_size=batch_size_test, shuffle=True)\n",
        "\n",
        "# Other features of DataLoader:\n",
        "#   1. Can use num_workers > 1 to use subprocesses that will asynchronously load data\n",
        "#   2. Can use pinned RAM (with pin_memory) to speed up RAM for GPU transfers"
      ],
      "execution_count": 68,
      "outputs": []
    },
    {
      "cell_type": "code",
      "metadata": {
        "id": "QmZf847tUbtj",
        "outputId": "40fcc15a-df88-4815-bd0a-71b338d6eacf",
        "colab": {
          "base_uri": "https://localhost:8080/"
        }
      },
      "source": [
        "# Look at some examples\n",
        "examples = enumerate(test_loader)\n",
        "batch_idx, (example_data, example_targets) = next(examples)\n",
        "print(example_data[0][0][0])\n",
        "print(example_targets[:50])\n",
        "print(batch_idx)"
      ],
      "execution_count": 69,
      "outputs": [
        {
          "output_type": "stream",
          "text": [
            "tensor([-0.4242, -0.4242, -0.4242, -0.4242, -0.4242, -0.4242, -0.4242, -0.4242,\n",
            "        -0.4242, -0.4242, -0.4242, -0.4242, -0.4242, -0.4242, -0.4242, -0.4242,\n",
            "        -0.4242, -0.4242, -0.4242, -0.4242, -0.4242, -0.4242, -0.4242, -0.4242,\n",
            "        -0.4242, -0.4242, -0.4242, -0.4242])\n",
            "tensor([4, 4, 2, 1, 8, 8, 2, 8, 3, 8, 5, 5, 5, 3, 0, 3, 6, 3, 0, 7, 0, 7, 2, 3,\n",
            "        3, 4, 8, 2, 6, 1, 1, 2, 9, 5, 8, 2, 0, 3, 2, 3, 9, 9, 9, 3, 7, 9, 5, 7,\n",
            "        2, 1])\n",
            "0\n"
          ],
          "name": "stdout"
        }
      ]
    },
    {
      "cell_type": "code",
      "metadata": {
        "id": "sjPz8j4YVkY1",
        "outputId": "016cb321-4a54-48a8-85de-f626a5e2fd32",
        "colab": {
          "base_uri": "https://localhost:8080/"
        }
      },
      "source": [
        "example_data.shape"
      ],
      "execution_count": 70,
      "outputs": [
        {
          "output_type": "execute_result",
          "data": {
            "text/plain": [
              "torch.Size([1000, 1, 28, 28])"
            ]
          },
          "metadata": {
            "tags": []
          },
          "execution_count": 70
        }
      ]
    },
    {
      "cell_type": "code",
      "metadata": {
        "id": "y-BHpXaiV8v_",
        "outputId": "8e764d89-a4a3-4316-a83a-41f8f2f7ac22",
        "colab": {
          "base_uri": "https://localhost:8080/",
          "height": 284
        }
      },
      "source": [
        "# Takes the first 6 target images and displays their image and observed result\n",
        "\n",
        "fig = plt.figure()\n",
        "for i in range(6):\n",
        "  plt.subplot(2,3,i+1)\n",
        "  plt.tight_layout()\n",
        "  plt.imshow(example_data[i][0], cmap='gray', interpolation='none')\n",
        "  plt.title(\"Ground Truth: {}\".format(example_targets[i]))\n",
        "  plt.xticks([])\n",
        "  plt.yticks([])"
      ],
      "execution_count": 71,
      "outputs": [
        {
          "output_type": "display_data",
          "data": {
            "image/png": "[encoded data removed]",
            "text/plain": [
              "<Figure size 432x288 with 6 Axes>"
            ]
          },
          "metadata": {
            "tags": []
          }
        }
      ]
    },
    {
      "cell_type": "code",
      "metadata": {
        "id": "Pxz_ImWuAYzM"
      },
      "source": [
        "class Net(nn.Module):\n",
        "    def __init__(self):\n",
        "        super(Net, self).__init__()\n",
        "        self.conv1 = nn.Conv2d(1, 10, kernel_size=5) # Two-dimensional network with 5 kernels and input of 1 channel and output of 10 channels\n",
        "        self.conv2 = nn.Conv2d(10, 20, kernel_size=5) # Two-dimensional network with 5 kernels and input of 10 channels and output of 20 channels\n",
        "        self.conv2_drop = nn.Dropout2d() # Use dropout to reduce overfitting\n",
        "        self.fc1 = nn.Linear(320, 50) # Two linear models to reduce the neurons to an output of 10 (one for each number)\n",
        "        self.fc2 = nn.Linear(50, 10)\n",
        "\n",
        "    def forward(self, x):\n",
        "        x = F.relu(F.max_pool2d(self.conv1(x), 2)) # Max pooling (add white border) over several input planes - take self.conv1(x) as number of rows and 2 as number of cols\n",
        "        x = F.relu(F.max_pool2d(self.conv2_drop(self.conv2(x)), 2)) # Do same as first step here\n",
        "        x = x.view(-1, 320) # Convert the tensor into a 2-D array of n rows and 320 columns\n",
        "        # -1 used when don't know number of rows but do know number of columns\n",
        "        x = F.relu(self.fc1(x)) # Run ReLU command on linearized model\n",
        "        x = F.dropout(x, training=self.training) # Do another dropout (linear not 2D)\n",
        "        x = self.fc2(x) # Last linear model\n",
        "        return F.log_softmax(x) # Take softmax so outcome comes in form of probablility"
      ],
      "execution_count": 72,
      "outputs": []
    },
    {
      "cell_type": "code",
      "metadata": {
        "id": "wkVOpm4NFFNX"
      },
      "source": [
        "# Initializing the network and the optimizer\n",
        "\n",
        "network = Net()\n",
        "optimizer = optim.SGD(network.parameters(), lr=learning_rate,\n",
        "                      momentum=momentum) # network.parameters() provides what parameters the SGD has to optimize"
      ],
      "execution_count": 73,
      "outputs": []
    },
    {
      "cell_type": "code",
      "metadata": {
        "id": "Bpj-PnPrFn4W"
      },
      "source": [
        "# Used to create visualizations for model analysis later on\n",
        "train_losses = []\n",
        "train_counter = []\n",
        "test_losses = []\n",
        "test_counter = [i*len(train_loader.dataset) for i in range(n_epochs + 1)]"
      ],
      "execution_count": 74,
      "outputs": []
    },
    {
      "cell_type": "code",
      "metadata": {
        "id": "GGorkh8WGRnf"
      },
      "source": [
        "def train(epoch):\n",
        "  network.train() # Tells the model that you are training the model, not testing it - so can use features like dropout and batch normalization\n",
        "  for batch_idx, (data, target) in enumerate(train_loader): # batch_idx = index of batch currently on\n",
        "    optimizer.zero_grad() # Manually set the gradients to zero since PyTorch accumulates gradients\n",
        "    output = network(data) # Feedforward through the network\n",
        "    loss = F.nll_loss(output, target) # Calculates negative log-likelihood loss\n",
        "    loss.backward() # Backpropogation through the network\n",
        "    optimizer.step() # Updates the weights on the network\n",
        "    if batch_idx % log_interval == 0:\n",
        "      print('Train Epoch: {} [{}/{} ({:.0f}%)]\\tLoss: {:.6f}'.format(\n",
        "        epoch, batch_idx * len(data), len(train_loader.dataset),\n",
        "        100. * batch_idx / len(train_loader), loss.item())) # loss.item() - value of the loss\n",
        "      train_losses.append(loss.item())\n",
        "      train_counter.append(\n",
        "        (batch_idx*64) + ((epoch-1)*len(train_loader.dataset))) \n",
        "      torch.save(network.state_dict(), './results/model.pth') # Save network\n",
        "      torch.save(optimizer.state_dict(), './results/optimizer.pth') # Same optimizer model - can use later by calling .load_state_dict(state_dict)"
      ],
      "execution_count": 75,
      "outputs": []
    },
    {
      "cell_type": "code",
      "metadata": {
        "id": "xDFuOPqEIa21"
      },
      "source": [
        "def test():\n",
        "  network.eval() # Tells the model that you are testing the model\n",
        "  test_loss = 0\n",
        "  correct = 0\n",
        "  with torch.no_grad(): # Avoid storing computations done storing output of network\n",
        "    for data, target in test_loader:\n",
        "      output = network(data) # Feedforward through network\n",
        "      test_loss += F.nll_loss(output, target, size_average=False).item() # Adds the negative log-likelihood loss\n",
        "      pred = output.data.max(1, keepdim=True)[1] # Makes prediction by taking max value from output layer\n",
        "      correct += pred.eq(target.data.view_as(pred)).sum() # Checks how many of these were correct out of the entire batch size\n",
        "  test_loss /= len(test_loader.dataset) # Divides loss across all of data points to see for each point\n",
        "  test_losses.append(test_loss)\n",
        "  print('\\nTest set: Avg. loss: {:.4f}, Accuracy: {}/{} ({:.0f}%)\\n'.format(\n",
        "    test_loss, correct, len(test_loader.dataset),\n",
        "    100. * correct / len(test_loader.dataset)))"
      ],
      "execution_count": 76,
      "outputs": []
    },
    {
      "cell_type": "code",
      "metadata": {
        "id": "eForiBg4JjOb",
        "outputId": "f143274e-63f6-423c-e521-9a336961771b",
        "colab": {
          "base_uri": "https://localhost:8080/"
        }
      },
      "source": [
        "test()\n",
        "for epoch in range(1, n_epochs + 1):\n",
        "  train(epoch)\n",
        "  test()"
      ],
      "execution_count": 77,
      "outputs": [
        {
          "output_type": "stream",
          "text": [
            "/usr/local/lib/python3.6/dist-packages/ipykernel_launcher.py:18: UserWarning: Implicit dimension choice for log_softmax has been deprecated. Change the call to include dim=X as an argument.\n",
            "/usr/local/lib/python3.6/dist-packages/torch/nn/_reduction.py:44: UserWarning: size_average and reduce args will be deprecated, please use reduction='sum' instead.\n",
            "  warnings.warn(warning.format(ret))\n"
          ],
          "name": "stderr"
        },
        {
          "output_type": "stream",
          "text": [
            "\n",
            "Test set: Avg. loss: 2.3089, Accuracy: 674/10000 (7%)\n",
            "\n",
            "Train Epoch: 1 [0/60000 (0%)]\tLoss: 2.368649\n",
            "Train Epoch: 1 [640/60000 (1%)]\tLoss: 2.298366\n",
            "Train Epoch: 1 [1280/60000 (2%)]\tLoss: 2.294433\n",
            "Train Epoch: 1 [1920/60000 (3%)]\tLoss: 2.260970\n",
            "Train Epoch: 1 [2560/60000 (4%)]\tLoss: 2.295450\n",
            "Train Epoch: 1 [3200/60000 (5%)]\tLoss: 2.239506\n",
            "Train Epoch: 1 [3840/60000 (6%)]\tLoss: 2.274136\n",
            "Train Epoch: 1 [4480/60000 (7%)]\tLoss: 2.225711\n",
            "Train Epoch: 1 [5120/60000 (9%)]\tLoss: 2.168033\n",
            "Train Epoch: 1 [5760/60000 (10%)]\tLoss: 2.138118\n",
            "Train Epoch: 1 [6400/60000 (11%)]\tLoss: 2.061368\n",
            "Train Epoch: 1 [7040/60000 (12%)]\tLoss: 1.945130\n",
            "Train Epoch: 1 [7680/60000 (13%)]\tLoss: 1.949193\n",
            "Train Epoch: 1 [8320/60000 (14%)]\tLoss: 1.750880\n",
            "Train Epoch: 1 [8960/60000 (15%)]\tLoss: 1.642634\n",
            "Train Epoch: 1 [9600/60000 (16%)]\tLoss: 1.585531\n",
            "Train Epoch: 1 [10240/60000 (17%)]\tLoss: 1.416778\n",
            "Train Epoch: 1 [10880/60000 (18%)]\tLoss: 1.314595\n",
            "Train Epoch: 1 [11520/60000 (19%)]\tLoss: 1.256788\n",
            "Train Epoch: 1 [12160/60000 (20%)]\tLoss: 1.344633\n",
            "Train Epoch: 1 [12800/60000 (21%)]\tLoss: 1.077739\n",
            "Train Epoch: 1 [13440/60000 (22%)]\tLoss: 1.081740\n",
            "Train Epoch: 1 [14080/60000 (23%)]\tLoss: 0.987016\n",
            "Train Epoch: 1 [14720/60000 (25%)]\tLoss: 1.033360\n",
            "Train Epoch: 1 [15360/60000 (26%)]\tLoss: 0.897582\n",
            "Train Epoch: 1 [16000/60000 (27%)]\tLoss: 0.933026\n",
            "Train Epoch: 1 [16640/60000 (28%)]\tLoss: 0.944575\n",
            "Train Epoch: 1 [17280/60000 (29%)]\tLoss: 0.757116\n",
            "Train Epoch: 1 [17920/60000 (30%)]\tLoss: 0.903186\n",
            "Train Epoch: 1 [18560/60000 (31%)]\tLoss: 0.853701\n",
            "Train Epoch: 1 [19200/60000 (32%)]\tLoss: 0.820479\n",
            "Train Epoch: 1 [19840/60000 (33%)]\tLoss: 0.800447\n",
            "Train Epoch: 1 [20480/60000 (34%)]\tLoss: 1.011726\n",
            "Train Epoch: 1 [21120/60000 (35%)]\tLoss: 0.756903\n",
            "Train Epoch: 1 [21760/60000 (36%)]\tLoss: 0.777775\n",
            "Train Epoch: 1 [22400/60000 (37%)]\tLoss: 0.772612\n",
            "Train Epoch: 1 [23040/60000 (38%)]\tLoss: 0.985612\n",
            "Train Epoch: 1 [23680/60000 (39%)]\tLoss: 0.627540\n",
            "Train Epoch: 1 [24320/60000 (41%)]\tLoss: 0.810683\n",
            "Train Epoch: 1 [24960/60000 (42%)]\tLoss: 0.644313\n",
            "Train Epoch: 1 [25600/60000 (43%)]\tLoss: 0.591998\n",
            "Train Epoch: 1 [26240/60000 (44%)]\tLoss: 0.716178\n",
            "Train Epoch: 1 [26880/60000 (45%)]\tLoss: 0.534523\n",
            "Train Epoch: 1 [27520/60000 (46%)]\tLoss: 0.587616\n",
            "Train Epoch: 1 [28160/60000 (47%)]\tLoss: 0.624472\n",
            "Train Epoch: 1 [28800/60000 (48%)]\tLoss: 0.674985\n",
            "Train Epoch: 1 [29440/60000 (49%)]\tLoss: 0.514557\n",
            "Train Epoch: 1 [30080/60000 (50%)]\tLoss: 0.663964\n",
            "Train Epoch: 1 [30720/60000 (51%)]\tLoss: 0.642941\n",
            "Train Epoch: 1 [31360/60000 (52%)]\tLoss: 0.722029\n",
            "Train Epoch: 1 [32000/60000 (53%)]\tLoss: 0.496418\n",
            "Train Epoch: 1 [32640/60000 (54%)]\tLoss: 0.677668\n",
            "Train Epoch: 1 [33280/60000 (55%)]\tLoss: 0.504428\n",
            "Train Epoch: 1 [33920/60000 (57%)]\tLoss: 0.663938\n",
            "Train Epoch: 1 [34560/60000 (58%)]\tLoss: 0.503294\n",
            "Train Epoch: 1 [35200/60000 (59%)]\tLoss: 0.477889\n",
            "Train Epoch: 1 [35840/60000 (60%)]\tLoss: 0.794166\n",
            "Train Epoch: 1 [36480/60000 (61%)]\tLoss: 0.556869\n",
            "Train Epoch: 1 [37120/60000 (62%)]\tLoss: 0.731365\n",
            "Train Epoch: 1 [37760/60000 (63%)]\tLoss: 0.777076\n",
            "Train Epoch: 1 [38400/60000 (64%)]\tLoss: 0.372594\n",
            "Train Epoch: 1 [39040/60000 (65%)]\tLoss: 0.699481\n",
            "Train Epoch: 1 [39680/60000 (66%)]\tLoss: 0.448618\n",
            "Train Epoch: 1 [40320/60000 (67%)]\tLoss: 0.473050\n",
            "Train Epoch: 1 [40960/60000 (68%)]\tLoss: 0.595802\n",
            "Train Epoch: 1 [41600/60000 (69%)]\tLoss: 0.730539\n",
            "Train Epoch: 1 [42240/60000 (70%)]\tLoss: 0.657642\n",
            "Train Epoch: 1 [42880/60000 (71%)]\tLoss: 0.560993\n",
            "Train Epoch: 1 [43520/60000 (72%)]\tLoss: 0.615571\n",
            "Train Epoch: 1 [44160/60000 (74%)]\tLoss: 0.372756\n",
            "Train Epoch: 1 [44800/60000 (75%)]\tLoss: 0.608163\n",
            "Train Epoch: 1 [45440/60000 (76%)]\tLoss: 0.339298\n",
            "Train Epoch: 1 [46080/60000 (77%)]\tLoss: 0.581123\n",
            "Train Epoch: 1 [46720/60000 (78%)]\tLoss: 0.370507\n",
            "Train Epoch: 1 [47360/60000 (79%)]\tLoss: 0.511109\n",
            "Train Epoch: 1 [48000/60000 (80%)]\tLoss: 0.734303\n",
            "Train Epoch: 1 [48640/60000 (81%)]\tLoss: 0.721187\n",
            "Train Epoch: 1 [49280/60000 (82%)]\tLoss: 0.683140\n",
            "Train Epoch: 1 [49920/60000 (83%)]\tLoss: 0.730493\n",
            "Train Epoch: 1 [50560/60000 (84%)]\tLoss: 0.884790\n",
            "Train Epoch: 1 [51200/60000 (85%)]\tLoss: 0.522564\n",
            "Train Epoch: 1 [51840/60000 (86%)]\tLoss: 0.552372\n",
            "Train Epoch: 1 [52480/60000 (87%)]\tLoss: 0.423492\n",
            "Train Epoch: 1 [53120/60000 (88%)]\tLoss: 0.352806\n",
            "Train Epoch: 1 [53760/60000 (90%)]\tLoss: 0.499234\n",
            "Train Epoch: 1 [54400/60000 (91%)]\tLoss: 0.526626\n",
            "Train Epoch: 1 [55040/60000 (92%)]\tLoss: 0.519250\n",
            "Train Epoch: 1 [55680/60000 (93%)]\tLoss: 0.551768\n",
            "Train Epoch: 1 [56320/60000 (94%)]\tLoss: 0.367087\n",
            "Train Epoch: 1 [56960/60000 (95%)]\tLoss: 0.557815\n",
            "Train Epoch: 1 [57600/60000 (96%)]\tLoss: 0.559760\n",
            "Train Epoch: 1 [58240/60000 (97%)]\tLoss: 0.471249\n",
            "Train Epoch: 1 [58880/60000 (98%)]\tLoss: 0.334360\n",
            "Train Epoch: 1 [59520/60000 (99%)]\tLoss: 0.438915\n",
            "\n",
            "Test set: Avg. loss: 0.1933, Accuracy: 9436/10000 (94%)\n",
            "\n",
            "Train Epoch: 2 [0/60000 (0%)]\tLoss: 0.389359\n",
            "Train Epoch: 2 [640/60000 (1%)]\tLoss: 0.503007\n",
            "Train Epoch: 2 [1280/60000 (2%)]\tLoss: 0.479715\n",
            "Train Epoch: 2 [1920/60000 (3%)]\tLoss: 0.395343\n",
            "Train Epoch: 2 [2560/60000 (4%)]\tLoss: 0.546998\n",
            "Train Epoch: 2 [3200/60000 (5%)]\tLoss: 0.582413\n",
            "Train Epoch: 2 [3840/60000 (6%)]\tLoss: 0.288975\n",
            "Train Epoch: 2 [4480/60000 (7%)]\tLoss: 0.713193\n",
            "Train Epoch: 2 [5120/60000 (9%)]\tLoss: 0.468592\n",
            "Train Epoch: 2 [5760/60000 (10%)]\tLoss: 0.461409\n",
            "Train Epoch: 2 [6400/60000 (11%)]\tLoss: 0.420494\n",
            "Train Epoch: 2 [7040/60000 (12%)]\tLoss: 0.633788\n",
            "Train Epoch: 2 [7680/60000 (13%)]\tLoss: 0.498224\n",
            "Train Epoch: 2 [8320/60000 (14%)]\tLoss: 0.522662\n",
            "Train Epoch: 2 [8960/60000 (15%)]\tLoss: 0.492584\n",
            "Train Epoch: 2 [9600/60000 (16%)]\tLoss: 0.389133\n",
            "Train Epoch: 2 [10240/60000 (17%)]\tLoss: 0.445438\n",
            "Train Epoch: 2 [10880/60000 (18%)]\tLoss: 0.312806\n",
            "Train Epoch: 2 [11520/60000 (19%)]\tLoss: 0.384749\n",
            "Train Epoch: 2 [12160/60000 (20%)]\tLoss: 0.326914\n",
            "Train Epoch: 2 [12800/60000 (21%)]\tLoss: 0.520013\n",
            "Train Epoch: 2 [13440/60000 (22%)]\tLoss: 0.420716\n",
            "Train Epoch: 2 [14080/60000 (23%)]\tLoss: 0.374460\n",
            "Train Epoch: 2 [14720/60000 (25%)]\tLoss: 0.307619\n",
            "Train Epoch: 2 [15360/60000 (26%)]\tLoss: 0.407653\n",
            "Train Epoch: 2 [16000/60000 (27%)]\tLoss: 0.374905\n",
            "Train Epoch: 2 [16640/60000 (28%)]\tLoss: 0.442027\n",
            "Train Epoch: 2 [17280/60000 (29%)]\tLoss: 0.389150\n",
            "Train Epoch: 2 [17920/60000 (30%)]\tLoss: 0.651793\n",
            "Train Epoch: 2 [18560/60000 (31%)]\tLoss: 0.408287\n",
            "Train Epoch: 2 [19200/60000 (32%)]\tLoss: 0.300040\n",
            "Train Epoch: 2 [19840/60000 (33%)]\tLoss: 0.279920\n",
            "Train Epoch: 2 [20480/60000 (34%)]\tLoss: 0.407665\n",
            "Train Epoch: 2 [21120/60000 (35%)]\tLoss: 0.297466\n",
            "Train Epoch: 2 [21760/60000 (36%)]\tLoss: 0.273555\n",
            "Train Epoch: 2 [22400/60000 (37%)]\tLoss: 0.424745\n",
            "Train Epoch: 2 [23040/60000 (38%)]\tLoss: 0.555121\n",
            "Train Epoch: 2 [23680/60000 (39%)]\tLoss: 0.405032\n",
            "Train Epoch: 2 [24320/60000 (41%)]\tLoss: 0.283391\n",
            "Train Epoch: 2 [24960/60000 (42%)]\tLoss: 0.404788\n",
            "Train Epoch: 2 [25600/60000 (43%)]\tLoss: 0.571929\n",
            "Train Epoch: 2 [26240/60000 (44%)]\tLoss: 0.283663\n",
            "Train Epoch: 2 [26880/60000 (45%)]\tLoss: 0.535690\n",
            "Train Epoch: 2 [27520/60000 (46%)]\tLoss: 0.527369\n",
            "Train Epoch: 2 [28160/60000 (47%)]\tLoss: 0.434354\n",
            "Train Epoch: 2 [28800/60000 (48%)]\tLoss: 0.427185\n",
            "Train Epoch: 2 [29440/60000 (49%)]\tLoss: 0.375629\n",
            "Train Epoch: 2 [30080/60000 (50%)]\tLoss: 0.557584\n",
            "Train Epoch: 2 [30720/60000 (51%)]\tLoss: 0.281076\n",
            "Train Epoch: 2 [31360/60000 (52%)]\tLoss: 0.373245\n",
            "Train Epoch: 2 [32000/60000 (53%)]\tLoss: 0.231038\n",
            "Train Epoch: 2 [32640/60000 (54%)]\tLoss: 0.297670\n",
            "Train Epoch: 2 [33280/60000 (55%)]\tLoss: 0.327586\n",
            "Train Epoch: 2 [33920/60000 (57%)]\tLoss: 0.302512\n",
            "Train Epoch: 2 [34560/60000 (58%)]\tLoss: 0.253864\n",
            "Train Epoch: 2 [35200/60000 (59%)]\tLoss: 0.657450\n",
            "Train Epoch: 2 [35840/60000 (60%)]\tLoss: 0.277987\n",
            "Train Epoch: 2 [36480/60000 (61%)]\tLoss: 0.354875\n",
            "Train Epoch: 2 [37120/60000 (62%)]\tLoss: 0.388646\n",
            "Train Epoch: 2 [37760/60000 (63%)]\tLoss: 0.342180\n",
            "Train Epoch: 2 [38400/60000 (64%)]\tLoss: 0.342739\n",
            "Train Epoch: 2 [39040/60000 (65%)]\tLoss: 0.420273\n",
            "Train Epoch: 2 [39680/60000 (66%)]\tLoss: 0.291725\n",
            "Train Epoch: 2 [40320/60000 (67%)]\tLoss: 0.428819\n",
            "Train Epoch: 2 [40960/60000 (68%)]\tLoss: 0.221594\n",
            "Train Epoch: 2 [41600/60000 (69%)]\tLoss: 0.191834\n",
            "Train Epoch: 2 [42240/60000 (70%)]\tLoss: 0.201834\n",
            "Train Epoch: 2 [42880/60000 (71%)]\tLoss: 0.433239\n",
            "Train Epoch: 2 [43520/60000 (72%)]\tLoss: 0.511837\n",
            "Train Epoch: 2 [44160/60000 (74%)]\tLoss: 0.543958\n",
            "Train Epoch: 2 [44800/60000 (75%)]\tLoss: 0.265971\n",
            "Train Epoch: 2 [45440/60000 (76%)]\tLoss: 0.420031\n",
            "Train Epoch: 2 [46080/60000 (77%)]\tLoss: 0.335330\n",
            "Train Epoch: 2 [46720/60000 (78%)]\tLoss: 0.394782\n",
            "Train Epoch: 2 [47360/60000 (79%)]\tLoss: 0.324134\n",
            "Train Epoch: 2 [48000/60000 (80%)]\tLoss: 0.305854\n",
            "Train Epoch: 2 [48640/60000 (81%)]\tLoss: 0.279411\n",
            "Train Epoch: 2 [49280/60000 (82%)]\tLoss: 0.346827\n",
            "Train Epoch: 2 [49920/60000 (83%)]\tLoss: 0.157943\n",
            "Train Epoch: 2 [50560/60000 (84%)]\tLoss: 0.346886\n",
            "Train Epoch: 2 [51200/60000 (85%)]\tLoss: 0.269489\n",
            "Train Epoch: 2 [51840/60000 (86%)]\tLoss: 0.322011\n",
            "Train Epoch: 2 [52480/60000 (87%)]\tLoss: 0.216276\n",
            "Train Epoch: 2 [53120/60000 (88%)]\tLoss: 0.601342\n",
            "Train Epoch: 2 [53760/60000 (90%)]\tLoss: 0.496294\n",
            "Train Epoch: 2 [54400/60000 (91%)]\tLoss: 0.372311\n",
            "Train Epoch: 2 [55040/60000 (92%)]\tLoss: 0.419505\n",
            "Train Epoch: 2 [55680/60000 (93%)]\tLoss: 0.500552\n",
            "Train Epoch: 2 [56320/60000 (94%)]\tLoss: 0.340948\n",
            "Train Epoch: 2 [56960/60000 (95%)]\tLoss: 0.174410\n",
            "Train Epoch: 2 [57600/60000 (96%)]\tLoss: 0.478531\n",
            "Train Epoch: 2 [58240/60000 (97%)]\tLoss: 0.359114\n",
            "Train Epoch: 2 [58880/60000 (98%)]\tLoss: 0.266397\n",
            "Train Epoch: 2 [59520/60000 (99%)]\tLoss: 0.285017\n",
            "\n",
            "Test set: Avg. loss: 0.1212, Accuracy: 9636/10000 (96%)\n",
            "\n",
            "Train Epoch: 3 [0/60000 (0%)]\tLoss: 0.320934\n",
            "Train Epoch: 3 [640/60000 (1%)]\tLoss: 0.270856\n",
            "Train Epoch: 3 [1280/60000 (2%)]\tLoss: 0.330610\n",
            "Train Epoch: 3 [1920/60000 (3%)]\tLoss: 0.401917\n",
            "Train Epoch: 3 [2560/60000 (4%)]\tLoss: 0.380649\n",
            "Train Epoch: 3 [3200/60000 (5%)]\tLoss: 0.185144\n",
            "Train Epoch: 3 [3840/60000 (6%)]\tLoss: 0.371777\n",
            "Train Epoch: 3 [4480/60000 (7%)]\tLoss: 0.123537\n",
            "Train Epoch: 3 [5120/60000 (9%)]\tLoss: 0.202390\n",
            "Train Epoch: 3 [5760/60000 (10%)]\tLoss: 0.449644\n",
            "Train Epoch: 3 [6400/60000 (11%)]\tLoss: 0.258612\n",
            "Train Epoch: 3 [7040/60000 (12%)]\tLoss: 0.349364\n",
            "Train Epoch: 3 [7680/60000 (13%)]\tLoss: 0.230553\n",
            "Train Epoch: 3 [8320/60000 (14%)]\tLoss: 0.246532\n",
            "Train Epoch: 3 [8960/60000 (15%)]\tLoss: 0.234980\n",
            "Train Epoch: 3 [9600/60000 (16%)]\tLoss: 0.342304\n",
            "Train Epoch: 3 [10240/60000 (17%)]\tLoss: 0.146712\n",
            "Train Epoch: 3 [10880/60000 (18%)]\tLoss: 0.275894\n",
            "Train Epoch: 3 [11520/60000 (19%)]\tLoss: 0.300761\n",
            "Train Epoch: 3 [12160/60000 (20%)]\tLoss: 0.192969\n",
            "Train Epoch: 3 [12800/60000 (21%)]\tLoss: 0.368589\n",
            "Train Epoch: 3 [13440/60000 (22%)]\tLoss: 0.491368\n",
            "Train Epoch: 3 [14080/60000 (23%)]\tLoss: 0.232062\n",
            "Train Epoch: 3 [14720/60000 (25%)]\tLoss: 0.272440\n",
            "Train Epoch: 3 [15360/60000 (26%)]\tLoss: 0.438672\n",
            "Train Epoch: 3 [16000/60000 (27%)]\tLoss: 0.307778\n",
            "Train Epoch: 3 [16640/60000 (28%)]\tLoss: 0.273382\n",
            "Train Epoch: 3 [17280/60000 (29%)]\tLoss: 0.162456\n",
            "Train Epoch: 3 [17920/60000 (30%)]\tLoss: 0.352708\n",
            "Train Epoch: 3 [18560/60000 (31%)]\tLoss: 0.149796\n",
            "Train Epoch: 3 [19200/60000 (32%)]\tLoss: 0.232396\n",
            "Train Epoch: 3 [19840/60000 (33%)]\tLoss: 0.266341\n",
            "Train Epoch: 3 [20480/60000 (34%)]\tLoss: 0.336679\n",
            "Train Epoch: 3 [21120/60000 (35%)]\tLoss: 0.167922\n",
            "Train Epoch: 3 [21760/60000 (36%)]\tLoss: 0.490302\n",
            "Train Epoch: 3 [22400/60000 (37%)]\tLoss: 0.326185\n",
            "Train Epoch: 3 [23040/60000 (38%)]\tLoss: 0.411771\n",
            "Train Epoch: 3 [23680/60000 (39%)]\tLoss: 0.237039\n",
            "Train Epoch: 3 [24320/60000 (41%)]\tLoss: 0.374535\n",
            "Train Epoch: 3 [24960/60000 (42%)]\tLoss: 0.384364\n",
            "Train Epoch: 3 [25600/60000 (43%)]\tLoss: 0.355888\n",
            "Train Epoch: 3 [26240/60000 (44%)]\tLoss: 0.464889\n",
            "Train Epoch: 3 [26880/60000 (45%)]\tLoss: 0.179204\n",
            "Train Epoch: 3 [27520/60000 (46%)]\tLoss: 0.259919\n",
            "Train Epoch: 3 [28160/60000 (47%)]\tLoss: 0.347567\n",
            "Train Epoch: 3 [28800/60000 (48%)]\tLoss: 0.255136\n",
            "Train Epoch: 3 [29440/60000 (49%)]\tLoss: 0.232350\n",
            "Train Epoch: 3 [30080/60000 (50%)]\tLoss: 0.125849\n",
            "Train Epoch: 3 [30720/60000 (51%)]\tLoss: 0.168927\n",
            "Train Epoch: 3 [31360/60000 (52%)]\tLoss: 0.334440\n",
            "Train Epoch: 3 [32000/60000 (53%)]\tLoss: 0.235113\n",
            "Train Epoch: 3 [32640/60000 (54%)]\tLoss: 0.417485\n",
            "Train Epoch: 3 [33280/60000 (55%)]\tLoss: 0.309718\n",
            "Train Epoch: 3 [33920/60000 (57%)]\tLoss: 0.154180\n",
            "Train Epoch: 3 [34560/60000 (58%)]\tLoss: 0.222087\n",
            "Train Epoch: 3 [35200/60000 (59%)]\tLoss: 0.307457\n",
            "Train Epoch: 3 [35840/60000 (60%)]\tLoss: 0.333350\n",
            "Train Epoch: 3 [36480/60000 (61%)]\tLoss: 0.133243\n",
            "Train Epoch: 3 [37120/60000 (62%)]\tLoss: 0.146821\n",
            "Train Epoch: 3 [37760/60000 (63%)]\tLoss: 0.178338\n",
            "Train Epoch: 3 [38400/60000 (64%)]\tLoss: 0.250091\n",
            "Train Epoch: 3 [39040/60000 (65%)]\tLoss: 0.411358\n",
            "Train Epoch: 3 [39680/60000 (66%)]\tLoss: 0.260132\n",
            "Train Epoch: 3 [40320/60000 (67%)]\tLoss: 0.169789\n",
            "Train Epoch: 3 [40960/60000 (68%)]\tLoss: 0.250595\n",
            "Train Epoch: 3 [41600/60000 (69%)]\tLoss: 0.185515\n",
            "Train Epoch: 3 [42240/60000 (70%)]\tLoss: 0.199952\n",
            "Train Epoch: 3 [42880/60000 (71%)]\tLoss: 0.290194\n",
            "Train Epoch: 3 [43520/60000 (72%)]\tLoss: 0.219642\n",
            "Train Epoch: 3 [44160/60000 (74%)]\tLoss: 0.290527\n",
            "Train Epoch: 3 [44800/60000 (75%)]\tLoss: 0.284248\n",
            "Train Epoch: 3 [45440/60000 (76%)]\tLoss: 0.352596\n",
            "Train Epoch: 3 [46080/60000 (77%)]\tLoss: 0.565725\n",
            "Train Epoch: 3 [46720/60000 (78%)]\tLoss: 0.228555\n",
            "Train Epoch: 3 [47360/60000 (79%)]\tLoss: 0.230696\n",
            "Train Epoch: 3 [48000/60000 (80%)]\tLoss: 0.243273\n",
            "Train Epoch: 3 [48640/60000 (81%)]\tLoss: 0.272022\n",
            "Train Epoch: 3 [49280/60000 (82%)]\tLoss: 0.287144\n",
            "Train Epoch: 3 [49920/60000 (83%)]\tLoss: 0.329595\n",
            "Train Epoch: 3 [50560/60000 (84%)]\tLoss: 0.158091\n",
            "Train Epoch: 3 [51200/60000 (85%)]\tLoss: 0.229772\n",
            "Train Epoch: 3 [51840/60000 (86%)]\tLoss: 0.139081\n",
            "Train Epoch: 3 [52480/60000 (87%)]\tLoss: 0.423113\n",
            "Train Epoch: 3 [53120/60000 (88%)]\tLoss: 0.439047\n",
            "Train Epoch: 3 [53760/60000 (90%)]\tLoss: 0.250099\n",
            "Train Epoch: 3 [54400/60000 (91%)]\tLoss: 0.737291\n",
            "Train Epoch: 3 [55040/60000 (92%)]\tLoss: 0.374567\n",
            "Train Epoch: 3 [55680/60000 (93%)]\tLoss: 0.293031\n",
            "Train Epoch: 3 [56320/60000 (94%)]\tLoss: 0.246748\n",
            "Train Epoch: 3 [56960/60000 (95%)]\tLoss: 0.155488\n",
            "Train Epoch: 3 [57600/60000 (96%)]\tLoss: 0.313625\n",
            "Train Epoch: 3 [58240/60000 (97%)]\tLoss: 0.245092\n",
            "Train Epoch: 3 [58880/60000 (98%)]\tLoss: 0.176108\n",
            "Train Epoch: 3 [59520/60000 (99%)]\tLoss: 0.235266\n",
            "\n",
            "Test set: Avg. loss: 0.0959, Accuracy: 9694/10000 (97%)\n",
            "\n"
          ],
          "name": "stdout"
        }
      ]
    },
    {
      "cell_type": "code",
      "metadata": {
        "id": "qts2dsCSJ5EG",
        "outputId": "7875e795-5476-445e-dbf6-fe77904699bf",
        "colab": {
          "base_uri": "https://localhost:8080/",
          "height": 296
        }
      },
      "source": [
        "fig = plt.figure()\n",
        "plt.plot(train_counter, train_losses, color='blue')\n",
        "#plt.scatter(test_counter, test_losses, color='red')\n",
        "plt.legend(['Train Loss'], loc='upper right')\n",
        "plt.xlabel('number of training examples seen')\n",
        "plt.ylabel('negative log likelihood loss')"
      ],
      "execution_count": 78,
      "outputs": [
        {
          "output_type": "execute_result",
          "data": {
            "text/plain": [
              "Text(0, 0.5, 'negative log likelihood loss')"
            ]
          },
          "metadata": {
            "tags": []
          },
          "execution_count": 78
        },
        {
          "output_type": "display_data",
          "data": {
            "image/png": "[encoded data removed]",
            "text/plain": [
              "<Figure size 432x288 with 1 Axes>"
            ]
          },
          "metadata": {
            "tags": [],
            "needs_background": "light"
          }
        }
      ]
    },
    {
      "cell_type": "code",
      "metadata": {
        "id": "r9DOsHHdJ-ov",
        "outputId": "9b9d2126-dfad-4dea-ec1e-719070d3d780",
        "colab": {
          "base_uri": "https://localhost:8080/",
          "height": 296
        }
      },
      "source": [
        "fig = plt.figure()\n",
        "plt.scatter(test_counter, test_losses, color='red')\n",
        "plt.legend(['Test Loss'], loc='upper right')\n",
        "plt.xlabel('number of training examples seen')\n",
        "plt.ylabel('negative log likelihood loss')"
      ],
      "execution_count": 79,
      "outputs": [
        {
          "output_type": "execute_result",
          "data": {
            "text/plain": [
              "Text(0, 0.5, 'negative log likelihood loss')"
            ]
          },
          "metadata": {
            "tags": []
          },
          "execution_count": 79
        },
        {
          "output_type": "display_data",
          "data": {
            "image/png": "[encoded data removed]",
            "text/plain": [
              "<Figure size 432x288 with 1 Axes>"
            ]
          },
          "metadata": {
            "tags": [],
            "needs_background": "light"
          }
        }
      ]
    },
    {
      "cell_type": "code",
      "metadata": {
        "id": "hZiLKfkDN4jf",
        "outputId": "b938f659-9af5-4963-bfc5-463e0b3c0a6a",
        "colab": {
          "base_uri": "https://localhost:8080/"
        }
      },
      "source": [
        "print(test_counter)"
      ],
      "execution_count": 80,
      "outputs": [
        {
          "output_type": "stream",
          "text": [
            "[0, 60000, 120000, 180000]\n"
          ],
          "name": "stdout"
        }
      ]
    },
    {
      "cell_type": "code",
      "metadata": {
        "id": "x7kVKC-4N7Bb",
        "outputId": "2a19dc32-595a-41b0-8fc4-8a390e562072",
        "colab": {
          "base_uri": "https://localhost:8080/"
        }
      },
      "source": [
        "print(test_losses)"
      ],
      "execution_count": 81,
      "outputs": [
        {
          "output_type": "stream",
          "text": [
            "[2.308917626953125, 0.19328246459960938, 0.12118170700073243, 0.0958678855895996]\n"
          ],
          "name": "stdout"
        }
      ]
    },
    {
      "cell_type": "code",
      "metadata": {
        "id": "1pOwOx5rOMWW",
        "outputId": "ad8468c1-856d-42b4-f441-0176c362143e",
        "colab": {
          "base_uri": "https://localhost:8080/"
        }
      },
      "source": [
        "with torch.no_grad():\n",
        "  output = network(example_data)"
      ],
      "execution_count": 82,
      "outputs": [
        {
          "output_type": "stream",
          "text": [
            "/usr/local/lib/python3.6/dist-packages/ipykernel_launcher.py:18: UserWarning: Implicit dimension choice for log_softmax has been deprecated. Change the call to include dim=X as an argument.\n"
          ],
          "name": "stderr"
        }
      ]
    },
    {
      "cell_type": "code",
      "metadata": {
        "id": "DreM3BTRQZv-",
        "outputId": "ad1e4e98-6c50-43d8-afa4-f50f52fd81f3",
        "colab": {
          "base_uri": "https://localhost:8080/",
          "height": 284
        }
      },
      "source": [
        "fig = plt.figure()\n",
        "for i in range(6):\n",
        "  plt.subplot(2,3,i+1)\n",
        "  plt.tight_layout()\n",
        "  plt.imshow(example_data[i][0], cmap='gray', interpolation='none')\n",
        "  plt.title(\"Prediction: {}\".format(\n",
        "    output.data.max(1, keepdim=True)[1][i].item()))\n",
        "  plt.xticks([])\n",
        "  plt.yticks([])"
      ],
      "execution_count": 83,
      "outputs": [
        {
          "output_type": "display_data",
          "data": {
            "image/png": "[encoded data removed]",
            "text/plain": [
              "<Figure size 432x288 with 6 Axes>"
            ]
          },
          "metadata": {
            "tags": []
          }
        }
      ]
    },
    {
      "cell_type": "code",
      "metadata": {
        "id": "3A0loqW5QeOP",
        "outputId": "5675cadb-96ea-4f9c-9478-26530882d1f3",
        "colab": {
          "base_uri": "https://localhost:8080/",
          "height": 1000
        }
      },
      "source": [
        "# Continued Training from Checkpoints\n",
        "\n",
        "# Initialize New Network\n",
        "continued_network = Net()\n",
        "continued_optimizer = optim.SGD(network.parameters(), lr=learning_rate,\n",
        "                                momentum=momentum)\n",
        "\n",
        "# Load Old Model In\n",
        "network_state_dict = torch.load('./results/model.pth')\n",
        "continued_network.load_state_dict(network_state_dict)\n",
        "\n",
        "optimizer_state_dict = torch.load('./results/optimizer.pth')\n",
        "continued_optimizer.load_state_dict(optimizer_state_dict)\n",
        "\n",
        "# Train and Test Model\n",
        "for i in range(4,9):\n",
        "  test_counter.append(i*len(train_loader.dataset))\n",
        "  train(i)\n",
        "  test()\n",
        "\n",
        "# Prediction\n",
        "fig = plt.figure()\n",
        "plt.plot(train_counter, train_losses, color='blue')\n",
        "plt.scatter(test_counter, test_losses, color='red')\n",
        "plt.legend(['Train Loss', 'Test Loss'], loc='upper right')\n",
        "plt.xlabel('number of training examples seen')\n",
        "plt.ylabel('negative log likelihood loss')"
      ],
      "execution_count": 84,
      "outputs": [
        {
          "output_type": "stream",
          "text": [
            "/usr/local/lib/python3.6/dist-packages/ipykernel_launcher.py:18: UserWarning: Implicit dimension choice for log_softmax has been deprecated. Change the call to include dim=X as an argument.\n"
          ],
          "name": "stderr"
        },
        {
          "output_type": "stream",
          "text": [
            "Train Epoch: 4 [0/60000 (0%)]\tLoss: 0.669169\n",
            "Train Epoch: 4 [640/60000 (1%)]\tLoss: 0.193975\n",
            "Train Epoch: 4 [1280/60000 (2%)]\tLoss: 0.195679\n",
            "Train Epoch: 4 [1920/60000 (3%)]\tLoss: 0.307104\n",
            "Train Epoch: 4 [2560/60000 (4%)]\tLoss: 0.203755\n",
            "Train Epoch: 4 [3200/60000 (5%)]\tLoss: 0.238004\n",
            "Train Epoch: 4 [3840/60000 (6%)]\tLoss: 0.257517\n",
            "Train Epoch: 4 [4480/60000 (7%)]\tLoss: 0.335847\n",
            "Train Epoch: 4 [5120/60000 (9%)]\tLoss: 0.209687\n",
            "Train Epoch: 4 [5760/60000 (10%)]\tLoss: 0.280779\n",
            "Train Epoch: 4 [6400/60000 (11%)]\tLoss: 0.284504\n",
            "Train Epoch: 4 [7040/60000 (12%)]\tLoss: 0.287162\n",
            "Train Epoch: 4 [7680/60000 (13%)]\tLoss: 0.189130\n",
            "Train Epoch: 4 [8320/60000 (14%)]\tLoss: 0.319709\n",
            "Train Epoch: 4 [8960/60000 (15%)]\tLoss: 0.131248\n",
            "Train Epoch: 4 [9600/60000 (16%)]\tLoss: 0.271623\n",
            "Train Epoch: 4 [10240/60000 (17%)]\tLoss: 0.150488\n",
            "Train Epoch: 4 [10880/60000 (18%)]\tLoss: 0.381778\n",
            "Train Epoch: 4 [11520/60000 (19%)]\tLoss: 0.241011\n",
            "Train Epoch: 4 [12160/60000 (20%)]\tLoss: 0.357388\n",
            "Train Epoch: 4 [12800/60000 (21%)]\tLoss: 0.217223\n",
            "Train Epoch: 4 [13440/60000 (22%)]\tLoss: 0.072271\n",
            "Train Epoch: 4 [14080/60000 (23%)]\tLoss: 0.281463\n",
            "Train Epoch: 4 [14720/60000 (25%)]\tLoss: 0.266497\n",
            "Train Epoch: 4 [15360/60000 (26%)]\tLoss: 0.160765\n",
            "Train Epoch: 4 [16000/60000 (27%)]\tLoss: 0.174690\n",
            "Train Epoch: 4 [16640/60000 (28%)]\tLoss: 0.323085\n",
            "Train Epoch: 4 [17280/60000 (29%)]\tLoss: 0.243071\n",
            "Train Epoch: 4 [17920/60000 (30%)]\tLoss: 0.146063\n",
            "Train Epoch: 4 [18560/60000 (31%)]\tLoss: 0.148246\n",
            "Train Epoch: 4 [19200/60000 (32%)]\tLoss: 0.488397\n",
            "Train Epoch: 4 [19840/60000 (33%)]\tLoss: 0.069319\n",
            "Train Epoch: 4 [20480/60000 (34%)]\tLoss: 0.141917\n",
            "Train Epoch: 4 [21120/60000 (35%)]\tLoss: 0.208661\n",
            "Train Epoch: 4 [21760/60000 (36%)]\tLoss: 0.310355\n",
            "Train Epoch: 4 [22400/60000 (37%)]\tLoss: 0.186178\n",
            "Train Epoch: 4 [23040/60000 (38%)]\tLoss: 0.175479\n",
            "Train Epoch: 4 [23680/60000 (39%)]\tLoss: 0.410868\n",
            "Train Epoch: 4 [24320/60000 (41%)]\tLoss: 0.359284\n",
            "Train Epoch: 4 [24960/60000 (42%)]\tLoss: 0.289524\n",
            "Train Epoch: 4 [25600/60000 (43%)]\tLoss: 0.305734\n",
            "Train Epoch: 4 [26240/60000 (44%)]\tLoss: 0.155858\n",
            "Train Epoch: 4 [26880/60000 (45%)]\tLoss: 0.302670\n",
            "Train Epoch: 4 [27520/60000 (46%)]\tLoss: 0.245872\n",
            "Train Epoch: 4 [28160/60000 (47%)]\tLoss: 0.321983\n",
            "Train Epoch: 4 [28800/60000 (48%)]\tLoss: 0.186887\n",
            "Train Epoch: 4 [29440/60000 (49%)]\tLoss: 0.176825\n",
            "Train Epoch: 4 [30080/60000 (50%)]\tLoss: 0.167007\n",
            "Train Epoch: 4 [30720/60000 (51%)]\tLoss: 0.136432\n",
            "Train Epoch: 4 [31360/60000 (52%)]\tLoss: 0.259711\n",
            "Train Epoch: 4 [32000/60000 (53%)]\tLoss: 0.134619\n",
            "Train Epoch: 4 [32640/60000 (54%)]\tLoss: 0.263614\n",
            "Train Epoch: 4 [33280/60000 (55%)]\tLoss: 0.118585\n",
            "Train Epoch: 4 [33920/60000 (57%)]\tLoss: 0.381931\n",
            "Train Epoch: 4 [34560/60000 (58%)]\tLoss: 0.218674\n",
            "Train Epoch: 4 [35200/60000 (59%)]\tLoss: 0.143070\n",
            "Train Epoch: 4 [35840/60000 (60%)]\tLoss: 0.121034\n",
            "Train Epoch: 4 [36480/60000 (61%)]\tLoss: 0.160850\n",
            "Train Epoch: 4 [37120/60000 (62%)]\tLoss: 0.126496\n",
            "Train Epoch: 4 [37760/60000 (63%)]\tLoss: 0.379008\n",
            "Train Epoch: 4 [38400/60000 (64%)]\tLoss: 0.112245\n",
            "Train Epoch: 4 [39040/60000 (65%)]\tLoss: 0.423923\n",
            "Train Epoch: 4 [39680/60000 (66%)]\tLoss: 0.239059\n",
            "Train Epoch: 4 [40320/60000 (67%)]\tLoss: 0.512319\n",
            "Train Epoch: 4 [40960/60000 (68%)]\tLoss: 0.284282\n",
            "Train Epoch: 4 [41600/60000 (69%)]\tLoss: 0.191649\n",
            "Train Epoch: 4 [42240/60000 (70%)]\tLoss: 0.183227\n",
            "Train Epoch: 4 [42880/60000 (71%)]\tLoss: 0.109412\n",
            "Train Epoch: 4 [43520/60000 (72%)]\tLoss: 0.183894\n",
            "Train Epoch: 4 [44160/60000 (74%)]\tLoss: 0.209143\n",
            "Train Epoch: 4 [44800/60000 (75%)]\tLoss: 0.255011\n",
            "Train Epoch: 4 [45440/60000 (76%)]\tLoss: 0.223081\n",
            "Train Epoch: 4 [46080/60000 (77%)]\tLoss: 0.239467\n",
            "Train Epoch: 4 [46720/60000 (78%)]\tLoss: 0.207700\n",
            "Train Epoch: 4 [47360/60000 (79%)]\tLoss: 0.174369\n",
            "Train Epoch: 4 [48000/60000 (80%)]\tLoss: 0.184237\n",
            "Train Epoch: 4 [48640/60000 (81%)]\tLoss: 0.187728\n",
            "Train Epoch: 4 [49280/60000 (82%)]\tLoss: 0.164506\n",
            "Train Epoch: 4 [49920/60000 (83%)]\tLoss: 0.264994\n",
            "Train Epoch: 4 [50560/60000 (84%)]\tLoss: 0.423643\n",
            "Train Epoch: 4 [51200/60000 (85%)]\tLoss: 0.315636\n",
            "Train Epoch: 4 [51840/60000 (86%)]\tLoss: 0.235200\n",
            "Train Epoch: 4 [52480/60000 (87%)]\tLoss: 0.298795\n",
            "Train Epoch: 4 [53120/60000 (88%)]\tLoss: 0.212972\n",
            "Train Epoch: 4 [53760/60000 (90%)]\tLoss: 0.210135\n",
            "Train Epoch: 4 [54400/60000 (91%)]\tLoss: 0.282398\n",
            "Train Epoch: 4 [55040/60000 (92%)]\tLoss: 0.121600\n",
            "Train Epoch: 4 [55680/60000 (93%)]\tLoss: 0.444624\n",
            "Train Epoch: 4 [56320/60000 (94%)]\tLoss: 0.228446\n",
            "Train Epoch: 4 [56960/60000 (95%)]\tLoss: 0.153912\n",
            "Train Epoch: 4 [57600/60000 (96%)]\tLoss: 0.097866\n",
            "Train Epoch: 4 [58240/60000 (97%)]\tLoss: 0.178781\n",
            "Train Epoch: 4 [58880/60000 (98%)]\tLoss: 0.155455\n",
            "Train Epoch: 4 [59520/60000 (99%)]\tLoss: 0.286600\n"
          ],
          "name": "stdout"
        },
        {
          "output_type": "stream",
          "text": [
            "/usr/local/lib/python3.6/dist-packages/torch/nn/_reduction.py:44: UserWarning: size_average and reduce args will be deprecated, please use reduction='sum' instead.\n",
            "  warnings.warn(warning.format(ret))\n"
          ],
          "name": "stderr"
        },
        {
          "output_type": "stream",
          "text": [
            "\n",
            "Test set: Avg. loss: 0.0840, Accuracy: 9731/10000 (97%)\n",
            "\n",
            "Train Epoch: 5 [0/60000 (0%)]\tLoss: 0.145342\n",
            "Train Epoch: 5 [640/60000 (1%)]\tLoss: 0.195255\n",
            "Train Epoch: 5 [1280/60000 (2%)]\tLoss: 0.433602\n",
            "Train Epoch: 5 [1920/60000 (3%)]\tLoss: 0.271662\n",
            "Train Epoch: 5 [2560/60000 (4%)]\tLoss: 0.121323\n",
            "Train Epoch: 5 [3200/60000 (5%)]\tLoss: 0.131053\n",
            "Train Epoch: 5 [3840/60000 (6%)]\tLoss: 0.223992\n",
            "Train Epoch: 5 [4480/60000 (7%)]\tLoss: 0.239263\n",
            "Train Epoch: 5 [5120/60000 (9%)]\tLoss: 0.335057\n",
            "Train Epoch: 5 [5760/60000 (10%)]\tLoss: 0.148383\n",
            "Train Epoch: 5 [6400/60000 (11%)]\tLoss: 0.209648\n",
            "Train Epoch: 5 [7040/60000 (12%)]\tLoss: 0.236725\n",
            "Train Epoch: 5 [7680/60000 (13%)]\tLoss: 0.277895\n",
            "Train Epoch: 5 [8320/60000 (14%)]\tLoss: 0.281379\n",
            "Train Epoch: 5 [8960/60000 (15%)]\tLoss: 0.271037\n",
            "Train Epoch: 5 [9600/60000 (16%)]\tLoss: 0.220026\n",
            "Train Epoch: 5 [10240/60000 (17%)]\tLoss: 0.342497\n",
            "Train Epoch: 5 [10880/60000 (18%)]\tLoss: 0.208678\n",
            "Train Epoch: 5 [11520/60000 (19%)]\tLoss: 0.245290\n",
            "Train Epoch: 5 [12160/60000 (20%)]\tLoss: 0.301635\n",
            "Train Epoch: 5 [12800/60000 (21%)]\tLoss: 0.107285\n",
            "Train Epoch: 5 [13440/60000 (22%)]\tLoss: 0.404824\n",
            "Train Epoch: 5 [14080/60000 (23%)]\tLoss: 0.184075\n",
            "Train Epoch: 5 [14720/60000 (25%)]\tLoss: 0.238132\n",
            "Train Epoch: 5 [15360/60000 (26%)]\tLoss: 0.322769\n",
            "Train Epoch: 5 [16000/60000 (27%)]\tLoss: 0.255731\n",
            "Train Epoch: 5 [16640/60000 (28%)]\tLoss: 0.237381\n",
            "Train Epoch: 5 [17280/60000 (29%)]\tLoss: 0.236744\n",
            "Train Epoch: 5 [17920/60000 (30%)]\tLoss: 0.258667\n",
            "Train Epoch: 5 [18560/60000 (31%)]\tLoss: 0.205991\n",
            "Train Epoch: 5 [19200/60000 (32%)]\tLoss: 0.169972\n",
            "Train Epoch: 5 [19840/60000 (33%)]\tLoss: 0.179194\n",
            "Train Epoch: 5 [20480/60000 (34%)]\tLoss: 0.186792\n",
            "Train Epoch: 5 [21120/60000 (35%)]\tLoss: 0.260100\n",
            "Train Epoch: 5 [21760/60000 (36%)]\tLoss: 0.241198\n",
            "Train Epoch: 5 [22400/60000 (37%)]\tLoss: 0.456874\n",
            "Train Epoch: 5 [23040/60000 (38%)]\tLoss: 0.254598\n",
            "Train Epoch: 5 [23680/60000 (39%)]\tLoss: 0.311988\n",
            "Train Epoch: 5 [24320/60000 (41%)]\tLoss: 0.231687\n",
            "Train Epoch: 5 [24960/60000 (42%)]\tLoss: 0.288795\n",
            "Train Epoch: 5 [25600/60000 (43%)]\tLoss: 0.320295\n",
            "Train Epoch: 5 [26240/60000 (44%)]\tLoss: 0.154979\n",
            "Train Epoch: 5 [26880/60000 (45%)]\tLoss: 0.172933\n",
            "Train Epoch: 5 [27520/60000 (46%)]\tLoss: 0.387741\n",
            "Train Epoch: 5 [28160/60000 (47%)]\tLoss: 0.090015\n",
            "Train Epoch: 5 [28800/60000 (48%)]\tLoss: 0.208794\n",
            "Train Epoch: 5 [29440/60000 (49%)]\tLoss: 0.161086\n",
            "Train Epoch: 5 [30080/60000 (50%)]\tLoss: 0.206391\n",
            "Train Epoch: 5 [30720/60000 (51%)]\tLoss: 0.243868\n",
            "Train Epoch: 5 [31360/60000 (52%)]\tLoss: 0.173832\n",
            "Train Epoch: 5 [32000/60000 (53%)]\tLoss: 0.195995\n",
            "Train Epoch: 5 [32640/60000 (54%)]\tLoss: 0.261387\n",
            "Train Epoch: 5 [33280/60000 (55%)]\tLoss: 0.177361\n",
            "Train Epoch: 5 [33920/60000 (57%)]\tLoss: 0.173736\n",
            "Train Epoch: 5 [34560/60000 (58%)]\tLoss: 0.197900\n",
            "Train Epoch: 5 [35200/60000 (59%)]\tLoss: 0.345141\n",
            "Train Epoch: 5 [35840/60000 (60%)]\tLoss: 0.164882\n",
            "Train Epoch: 5 [36480/60000 (61%)]\tLoss: 0.258020\n",
            "Train Epoch: 5 [37120/60000 (62%)]\tLoss: 0.222504\n",
            "Train Epoch: 5 [37760/60000 (63%)]\tLoss: 0.186087\n",
            "Train Epoch: 5 [38400/60000 (64%)]\tLoss: 0.298776\n",
            "Train Epoch: 5 [39040/60000 (65%)]\tLoss: 0.100363\n",
            "Train Epoch: 5 [39680/60000 (66%)]\tLoss: 0.175769\n",
            "Train Epoch: 5 [40320/60000 (67%)]\tLoss: 0.279752\n",
            "Train Epoch: 5 [40960/60000 (68%)]\tLoss: 0.276383\n",
            "Train Epoch: 5 [41600/60000 (69%)]\tLoss: 0.117019\n",
            "Train Epoch: 5 [42240/60000 (70%)]\tLoss: 0.229987\n",
            "Train Epoch: 5 [42880/60000 (71%)]\tLoss: 0.148918\n",
            "Train Epoch: 5 [43520/60000 (72%)]\tLoss: 0.154150\n",
            "Train Epoch: 5 [44160/60000 (74%)]\tLoss: 0.120071\n",
            "Train Epoch: 5 [44800/60000 (75%)]\tLoss: 0.233678\n",
            "Train Epoch: 5 [45440/60000 (76%)]\tLoss: 0.143992\n",
            "Train Epoch: 5 [46080/60000 (77%)]\tLoss: 0.142290\n",
            "Train Epoch: 5 [46720/60000 (78%)]\tLoss: 0.103849\n",
            "Train Epoch: 5 [47360/60000 (79%)]\tLoss: 0.182186\n",
            "Train Epoch: 5 [48000/60000 (80%)]\tLoss: 0.233955\n",
            "Train Epoch: 5 [48640/60000 (81%)]\tLoss: 0.226503\n",
            "Train Epoch: 5 [49280/60000 (82%)]\tLoss: 0.220630\n",
            "Train Epoch: 5 [49920/60000 (83%)]\tLoss: 0.414093\n",
            "Train Epoch: 5 [50560/60000 (84%)]\tLoss: 0.151862\n",
            "Train Epoch: 5 [51200/60000 (85%)]\tLoss: 0.250490\n",
            "Train Epoch: 5 [51840/60000 (86%)]\tLoss: 0.237651\n",
            "Train Epoch: 5 [52480/60000 (87%)]\tLoss: 0.306736\n",
            "Train Epoch: 5 [53120/60000 (88%)]\tLoss: 0.142428\n",
            "Train Epoch: 5 [53760/60000 (90%)]\tLoss: 0.257204\n",
            "Train Epoch: 5 [54400/60000 (91%)]\tLoss: 0.127055\n",
            "Train Epoch: 5 [55040/60000 (92%)]\tLoss: 0.392478\n",
            "Train Epoch: 5 [55680/60000 (93%)]\tLoss: 0.150749\n",
            "Train Epoch: 5 [56320/60000 (94%)]\tLoss: 0.232720\n",
            "Train Epoch: 5 [56960/60000 (95%)]\tLoss: 0.384089\n",
            "Train Epoch: 5 [57600/60000 (96%)]\tLoss: 0.245660\n",
            "Train Epoch: 5 [58240/60000 (97%)]\tLoss: 0.147951\n",
            "Train Epoch: 5 [58880/60000 (98%)]\tLoss: 0.257029\n",
            "Train Epoch: 5 [59520/60000 (99%)]\tLoss: 0.213837\n",
            "\n",
            "Test set: Avg. loss: 0.0752, Accuracy: 9766/10000 (98%)\n",
            "\n",
            "Train Epoch: 6 [0/60000 (0%)]\tLoss: 0.170673\n",
            "Train Epoch: 6 [640/60000 (1%)]\tLoss: 0.238968\n",
            "Train Epoch: 6 [1280/60000 (2%)]\tLoss: 0.229672\n",
            "Train Epoch: 6 [1920/60000 (3%)]\tLoss: 0.326435\n",
            "Train Epoch: 6 [2560/60000 (4%)]\tLoss: 0.271855\n",
            "Train Epoch: 6 [3200/60000 (5%)]\tLoss: 0.167564\n",
            "Train Epoch: 6 [3840/60000 (6%)]\tLoss: 0.077408\n",
            "Train Epoch: 6 [4480/60000 (7%)]\tLoss: 0.102011\n",
            "Train Epoch: 6 [5120/60000 (9%)]\tLoss: 0.233333\n",
            "Train Epoch: 6 [5760/60000 (10%)]\tLoss: 0.109060\n",
            "Train Epoch: 6 [6400/60000 (11%)]\tLoss: 0.402036\n",
            "Train Epoch: 6 [7040/60000 (12%)]\tLoss: 0.245456\n",
            "Train Epoch: 6 [7680/60000 (13%)]\tLoss: 0.261242\n",
            "Train Epoch: 6 [8320/60000 (14%)]\tLoss: 0.323106\n",
            "Train Epoch: 6 [8960/60000 (15%)]\tLoss: 0.171708\n",
            "Train Epoch: 6 [9600/60000 (16%)]\tLoss: 0.090942\n",
            "Train Epoch: 6 [10240/60000 (17%)]\tLoss: 0.390595\n",
            "Train Epoch: 6 [10880/60000 (18%)]\tLoss: 0.196688\n",
            "Train Epoch: 6 [11520/60000 (19%)]\tLoss: 0.223648\n",
            "Train Epoch: 6 [12160/60000 (20%)]\tLoss: 0.151048\n",
            "Train Epoch: 6 [12800/60000 (21%)]\tLoss: 0.330720\n",
            "Train Epoch: 6 [13440/60000 (22%)]\tLoss: 0.268460\n",
            "Train Epoch: 6 [14080/60000 (23%)]\tLoss: 0.267618\n",
            "Train Epoch: 6 [14720/60000 (25%)]\tLoss: 0.217890\n",
            "Train Epoch: 6 [15360/60000 (26%)]\tLoss: 0.136706\n",
            "Train Epoch: 6 [16000/60000 (27%)]\tLoss: 0.189877\n",
            "Train Epoch: 6 [16640/60000 (28%)]\tLoss: 0.124014\n",
            "Train Epoch: 6 [17280/60000 (29%)]\tLoss: 0.264693\n",
            "Train Epoch: 6 [17920/60000 (30%)]\tLoss: 0.405042\n",
            "Train Epoch: 6 [18560/60000 (31%)]\tLoss: 0.216297\n",
            "Train Epoch: 6 [19200/60000 (32%)]\tLoss: 0.215893\n",
            "Train Epoch: 6 [19840/60000 (33%)]\tLoss: 0.280379\n",
            "Train Epoch: 6 [20480/60000 (34%)]\tLoss: 0.180209\n",
            "Train Epoch: 6 [21120/60000 (35%)]\tLoss: 0.144636\n",
            "Train Epoch: 6 [21760/60000 (36%)]\tLoss: 0.347895\n",
            "Train Epoch: 6 [22400/60000 (37%)]\tLoss: 0.248586\n",
            "Train Epoch: 6 [23040/60000 (38%)]\tLoss: 0.439011\n",
            "Train Epoch: 6 [23680/60000 (39%)]\tLoss: 0.157226\n",
            "Train Epoch: 6 [24320/60000 (41%)]\tLoss: 0.244850\n",
            "Train Epoch: 6 [24960/60000 (42%)]\tLoss: 0.125205\n",
            "Train Epoch: 6 [25600/60000 (43%)]\tLoss: 0.142211\n",
            "Train Epoch: 6 [26240/60000 (44%)]\tLoss: 0.284759\n",
            "Train Epoch: 6 [26880/60000 (45%)]\tLoss: 0.542722\n",
            "Train Epoch: 6 [27520/60000 (46%)]\tLoss: 0.162517\n",
            "Train Epoch: 6 [28160/60000 (47%)]\tLoss: 0.194868\n",
            "Train Epoch: 6 [28800/60000 (48%)]\tLoss: 0.195853\n",
            "Train Epoch: 6 [29440/60000 (49%)]\tLoss: 0.130568\n",
            "Train Epoch: 6 [30080/60000 (50%)]\tLoss: 0.054128\n",
            "Train Epoch: 6 [30720/60000 (51%)]\tLoss: 0.142165\n",
            "Train Epoch: 6 [31360/60000 (52%)]\tLoss: 0.414110\n",
            "Train Epoch: 6 [32000/60000 (53%)]\tLoss: 0.163188\n",
            "Train Epoch: 6 [32640/60000 (54%)]\tLoss: 0.091405\n",
            "Train Epoch: 6 [33280/60000 (55%)]\tLoss: 0.332662\n",
            "Train Epoch: 6 [33920/60000 (57%)]\tLoss: 0.213867\n",
            "Train Epoch: 6 [34560/60000 (58%)]\tLoss: 0.211999\n",
            "Train Epoch: 6 [35200/60000 (59%)]\tLoss: 0.178714\n",
            "Train Epoch: 6 [35840/60000 (60%)]\tLoss: 0.431258\n",
            "Train Epoch: 6 [36480/60000 (61%)]\tLoss: 0.174560\n",
            "Train Epoch: 6 [37120/60000 (62%)]\tLoss: 0.278479\n",
            "Train Epoch: 6 [37760/60000 (63%)]\tLoss: 0.186028\n",
            "Train Epoch: 6 [38400/60000 (64%)]\tLoss: 0.226804\n",
            "Train Epoch: 6 [39040/60000 (65%)]\tLoss: 0.219501\n",
            "Train Epoch: 6 [39680/60000 (66%)]\tLoss: 0.355059\n",
            "Train Epoch: 6 [40320/60000 (67%)]\tLoss: 0.218077\n",
            "Train Epoch: 6 [40960/60000 (68%)]\tLoss: 0.106591\n",
            "Train Epoch: 6 [41600/60000 (69%)]\tLoss: 0.150978\n",
            "Train Epoch: 6 [42240/60000 (70%)]\tLoss: 0.230010\n",
            "Train Epoch: 6 [42880/60000 (71%)]\tLoss: 0.315810\n",
            "Train Epoch: 6 [43520/60000 (72%)]\tLoss: 0.100707\n",
            "Train Epoch: 6 [44160/60000 (74%)]\tLoss: 0.170784\n",
            "Train Epoch: 6 [44800/60000 (75%)]\tLoss: 0.169923\n",
            "Train Epoch: 6 [45440/60000 (76%)]\tLoss: 0.181790\n",
            "Train Epoch: 6 [46080/60000 (77%)]\tLoss: 0.215628\n",
            "Train Epoch: 6 [46720/60000 (78%)]\tLoss: 0.203762\n",
            "Train Epoch: 6 [47360/60000 (79%)]\tLoss: 0.192717\n",
            "Train Epoch: 6 [48000/60000 (80%)]\tLoss: 0.104740\n",
            "Train Epoch: 6 [48640/60000 (81%)]\tLoss: 0.302143\n",
            "Train Epoch: 6 [49280/60000 (82%)]\tLoss: 0.474249\n",
            "Train Epoch: 6 [49920/60000 (83%)]\tLoss: 0.307054\n",
            "Train Epoch: 6 [50560/60000 (84%)]\tLoss: 0.205240\n",
            "Train Epoch: 6 [51200/60000 (85%)]\tLoss: 0.240855\n",
            "Train Epoch: 6 [51840/60000 (86%)]\tLoss: 0.142162\n",
            "Train Epoch: 6 [52480/60000 (87%)]\tLoss: 0.340593\n",
            "Train Epoch: 6 [53120/60000 (88%)]\tLoss: 0.133139\n",
            "Train Epoch: 6 [53760/60000 (90%)]\tLoss: 0.128816\n",
            "Train Epoch: 6 [54400/60000 (91%)]\tLoss: 0.222251\n",
            "Train Epoch: 6 [55040/60000 (92%)]\tLoss: 0.427165\n",
            "Train Epoch: 6 [55680/60000 (93%)]\tLoss: 0.349735\n",
            "Train Epoch: 6 [56320/60000 (94%)]\tLoss: 0.240090\n",
            "Train Epoch: 6 [56960/60000 (95%)]\tLoss: 0.050095\n",
            "Train Epoch: 6 [57600/60000 (96%)]\tLoss: 0.217167\n",
            "Train Epoch: 6 [58240/60000 (97%)]\tLoss: 0.323802\n",
            "Train Epoch: 6 [58880/60000 (98%)]\tLoss: 0.176073\n",
            "Train Epoch: 6 [59520/60000 (99%)]\tLoss: 0.175852\n",
            "\n",
            "Test set: Avg. loss: 0.0658, Accuracy: 9782/10000 (98%)\n",
            "\n",
            "Train Epoch: 7 [0/60000 (0%)]\tLoss: 0.179500\n",
            "Train Epoch: 7 [640/60000 (1%)]\tLoss: 0.219234\n",
            "Train Epoch: 7 [1280/60000 (2%)]\tLoss: 0.293341\n",
            "Train Epoch: 7 [1920/60000 (3%)]\tLoss: 0.183669\n",
            "Train Epoch: 7 [2560/60000 (4%)]\tLoss: 0.212796\n",
            "Train Epoch: 7 [3200/60000 (5%)]\tLoss: 0.156365\n",
            "Train Epoch: 7 [3840/60000 (6%)]\tLoss: 0.112054\n",
            "Train Epoch: 7 [4480/60000 (7%)]\tLoss: 0.084171\n",
            "Train Epoch: 7 [5120/60000 (9%)]\tLoss: 0.227261\n",
            "Train Epoch: 7 [5760/60000 (10%)]\tLoss: 0.262065\n",
            "Train Epoch: 7 [6400/60000 (11%)]\tLoss: 0.295119\n",
            "Train Epoch: 7 [7040/60000 (12%)]\tLoss: 0.187358\n",
            "Train Epoch: 7 [7680/60000 (13%)]\tLoss: 0.250415\n",
            "Train Epoch: 7 [8320/60000 (14%)]\tLoss: 0.211102\n",
            "Train Epoch: 7 [8960/60000 (15%)]\tLoss: 0.157181\n",
            "Train Epoch: 7 [9600/60000 (16%)]\tLoss: 0.154225\n",
            "Train Epoch: 7 [10240/60000 (17%)]\tLoss: 0.168604\n",
            "Train Epoch: 7 [10880/60000 (18%)]\tLoss: 0.671654\n",
            "Train Epoch: 7 [11520/60000 (19%)]\tLoss: 0.243282\n",
            "Train Epoch: 7 [12160/60000 (20%)]\tLoss: 0.208061\n",
            "Train Epoch: 7 [12800/60000 (21%)]\tLoss: 0.128957\n",
            "Train Epoch: 7 [13440/60000 (22%)]\tLoss: 0.173126\n",
            "Train Epoch: 7 [14080/60000 (23%)]\tLoss: 0.203591\n",
            "Train Epoch: 7 [14720/60000 (25%)]\tLoss: 0.152828\n",
            "Train Epoch: 7 [15360/60000 (26%)]\tLoss: 0.190218\n",
            "Train Epoch: 7 [16000/60000 (27%)]\tLoss: 0.308672\n",
            "Train Epoch: 7 [16640/60000 (28%)]\tLoss: 0.186658\n",
            "Train Epoch: 7 [17280/60000 (29%)]\tLoss: 0.169897\n",
            "Train Epoch: 7 [17920/60000 (30%)]\tLoss: 0.318350\n",
            "Train Epoch: 7 [18560/60000 (31%)]\tLoss: 0.065549\n",
            "Train Epoch: 7 [19200/60000 (32%)]\tLoss: 0.147161\n",
            "Train Epoch: 7 [19840/60000 (33%)]\tLoss: 0.155398\n",
            "Train Epoch: 7 [20480/60000 (34%)]\tLoss: 0.214793\n",
            "Train Epoch: 7 [21120/60000 (35%)]\tLoss: 0.135708\n",
            "Train Epoch: 7 [21760/60000 (36%)]\tLoss: 0.169429\n",
            "Train Epoch: 7 [22400/60000 (37%)]\tLoss: 0.206124\n",
            "Train Epoch: 7 [23040/60000 (38%)]\tLoss: 0.187868\n",
            "Train Epoch: 7 [23680/60000 (39%)]\tLoss: 0.221484\n",
            "Train Epoch: 7 [24320/60000 (41%)]\tLoss: 0.170756\n",
            "Train Epoch: 7 [24960/60000 (42%)]\tLoss: 0.160109\n",
            "Train Epoch: 7 [25600/60000 (43%)]\tLoss: 0.089605\n",
            "Train Epoch: 7 [26240/60000 (44%)]\tLoss: 0.238833\n",
            "Train Epoch: 7 [26880/60000 (45%)]\tLoss: 0.179128\n",
            "Train Epoch: 7 [27520/60000 (46%)]\tLoss: 0.097412\n",
            "Train Epoch: 7 [28160/60000 (47%)]\tLoss: 0.080742\n",
            "Train Epoch: 7 [28800/60000 (48%)]\tLoss: 0.143698\n",
            "Train Epoch: 7 [29440/60000 (49%)]\tLoss: 0.145477\n",
            "Train Epoch: 7 [30080/60000 (50%)]\tLoss: 0.152222\n",
            "Train Epoch: 7 [30720/60000 (51%)]\tLoss: 0.178223\n",
            "Train Epoch: 7 [31360/60000 (52%)]\tLoss: 0.541258\n",
            "Train Epoch: 7 [32000/60000 (53%)]\tLoss: 0.137792\n",
            "Train Epoch: 7 [32640/60000 (54%)]\tLoss: 0.122041\n",
            "Train Epoch: 7 [33280/60000 (55%)]\tLoss: 0.269753\n",
            "Train Epoch: 7 [33920/60000 (57%)]\tLoss: 0.168513\n",
            "Train Epoch: 7 [34560/60000 (58%)]\tLoss: 0.231432\n",
            "Train Epoch: 7 [35200/60000 (59%)]\tLoss: 0.106081\n",
            "Train Epoch: 7 [35840/60000 (60%)]\tLoss: 0.207310\n",
            "Train Epoch: 7 [36480/60000 (61%)]\tLoss: 0.181146\n",
            "Train Epoch: 7 [37120/60000 (62%)]\tLoss: 0.100349\n",
            "Train Epoch: 7 [37760/60000 (63%)]\tLoss: 0.152877\n",
            "Train Epoch: 7 [38400/60000 (64%)]\tLoss: 0.055048\n",
            "Train Epoch: 7 [39040/60000 (65%)]\tLoss: 0.155186\n",
            "Train Epoch: 7 [39680/60000 (66%)]\tLoss: 0.170297\n",
            "Train Epoch: 7 [40320/60000 (67%)]\tLoss: 0.159858\n",
            "Train Epoch: 7 [40960/60000 (68%)]\tLoss: 0.132471\n",
            "Train Epoch: 7 [41600/60000 (69%)]\tLoss: 0.117771\n",
            "Train Epoch: 7 [42240/60000 (70%)]\tLoss: 0.209494\n",
            "Train Epoch: 7 [42880/60000 (71%)]\tLoss: 0.218778\n",
            "Train Epoch: 7 [43520/60000 (72%)]\tLoss: 0.200340\n",
            "Train Epoch: 7 [44160/60000 (74%)]\tLoss: 0.195832\n",
            "Train Epoch: 7 [44800/60000 (75%)]\tLoss: 0.197244\n",
            "Train Epoch: 7 [45440/60000 (76%)]\tLoss: 0.157550\n",
            "Train Epoch: 7 [46080/60000 (77%)]\tLoss: 0.092076\n",
            "Train Epoch: 7 [46720/60000 (78%)]\tLoss: 0.475718\n",
            "Train Epoch: 7 [47360/60000 (79%)]\tLoss: 0.237180\n",
            "Train Epoch: 7 [48000/60000 (80%)]\tLoss: 0.236544\n",
            "Train Epoch: 7 [48640/60000 (81%)]\tLoss: 0.128507\n",
            "Train Epoch: 7 [49280/60000 (82%)]\tLoss: 0.304152\n",
            "Train Epoch: 7 [49920/60000 (83%)]\tLoss: 0.405288\n",
            "Train Epoch: 7 [50560/60000 (84%)]\tLoss: 0.146588\n",
            "Train Epoch: 7 [51200/60000 (85%)]\tLoss: 0.208124\n",
            "Train Epoch: 7 [51840/60000 (86%)]\tLoss: 0.133662\n",
            "Train Epoch: 7 [52480/60000 (87%)]\tLoss: 0.193937\n",
            "Train Epoch: 7 [53120/60000 (88%)]\tLoss: 0.149984\n",
            "Train Epoch: 7 [53760/60000 (90%)]\tLoss: 0.118893\n",
            "Train Epoch: 7 [54400/60000 (91%)]\tLoss: 0.180613\n",
            "Train Epoch: 7 [55040/60000 (92%)]\tLoss: 0.204843\n",
            "Train Epoch: 7 [55680/60000 (93%)]\tLoss: 0.179921\n",
            "Train Epoch: 7 [56320/60000 (94%)]\tLoss: 0.264260\n",
            "Train Epoch: 7 [56960/60000 (95%)]\tLoss: 0.140179\n",
            "Train Epoch: 7 [57600/60000 (96%)]\tLoss: 0.223037\n",
            "Train Epoch: 7 [58240/60000 (97%)]\tLoss: 0.138935\n",
            "Train Epoch: 7 [58880/60000 (98%)]\tLoss: 0.198036\n",
            "Train Epoch: 7 [59520/60000 (99%)]\tLoss: 0.169569\n",
            "\n",
            "Test set: Avg. loss: 0.0586, Accuracy: 9804/10000 (98%)\n",
            "\n",
            "Train Epoch: 8 [0/60000 (0%)]\tLoss: 0.199641\n",
            "Train Epoch: 8 [640/60000 (1%)]\tLoss: 0.197172\n",
            "Train Epoch: 8 [1280/60000 (2%)]\tLoss: 0.294334\n",
            "Train Epoch: 8 [1920/60000 (3%)]\tLoss: 0.179600\n",
            "Train Epoch: 8 [2560/60000 (4%)]\tLoss: 0.101414\n",
            "Train Epoch: 8 [3200/60000 (5%)]\tLoss: 0.226582\n",
            "Train Epoch: 8 [3840/60000 (6%)]\tLoss: 0.137227\n",
            "Train Epoch: 8 [4480/60000 (7%)]\tLoss: 0.509013\n",
            "Train Epoch: 8 [5120/60000 (9%)]\tLoss: 0.110602\n",
            "Train Epoch: 8 [5760/60000 (10%)]\tLoss: 0.101992\n",
            "Train Epoch: 8 [6400/60000 (11%)]\tLoss: 0.125019\n",
            "Train Epoch: 8 [7040/60000 (12%)]\tLoss: 0.191085\n",
            "Train Epoch: 8 [7680/60000 (13%)]\tLoss: 0.105282\n",
            "Train Epoch: 8 [8320/60000 (14%)]\tLoss: 0.101732\n",
            "Train Epoch: 8 [8960/60000 (15%)]\tLoss: 0.314508\n",
            "Train Epoch: 8 [9600/60000 (16%)]\tLoss: 0.086919\n",
            "Train Epoch: 8 [10240/60000 (17%)]\tLoss: 0.241693\n",
            "Train Epoch: 8 [10880/60000 (18%)]\tLoss: 0.369496\n",
            "Train Epoch: 8 [11520/60000 (19%)]\tLoss: 0.142754\n",
            "Train Epoch: 8 [12160/60000 (20%)]\tLoss: 0.141371\n",
            "Train Epoch: 8 [12800/60000 (21%)]\tLoss: 0.046794\n",
            "Train Epoch: 8 [13440/60000 (22%)]\tLoss: 0.196105\n",
            "Train Epoch: 8 [14080/60000 (23%)]\tLoss: 0.172481\n",
            "Train Epoch: 8 [14720/60000 (25%)]\tLoss: 0.219908\n",
            "Train Epoch: 8 [15360/60000 (26%)]\tLoss: 0.242998\n",
            "Train Epoch: 8 [16000/60000 (27%)]\tLoss: 0.127383\n",
            "Train Epoch: 8 [16640/60000 (28%)]\tLoss: 0.228745\n",
            "Train Epoch: 8 [17280/60000 (29%)]\tLoss: 0.234945\n",
            "Train Epoch: 8 [17920/60000 (30%)]\tLoss: 0.285844\n",
            "Train Epoch: 8 [18560/60000 (31%)]\tLoss: 0.158304\n",
            "Train Epoch: 8 [19200/60000 (32%)]\tLoss: 0.154180\n",
            "Train Epoch: 8 [19840/60000 (33%)]\tLoss: 0.066049\n",
            "Train Epoch: 8 [20480/60000 (34%)]\tLoss: 0.204914\n",
            "Train Epoch: 8 [21120/60000 (35%)]\tLoss: 0.129466\n",
            "Train Epoch: 8 [21760/60000 (36%)]\tLoss: 0.236609\n",
            "Train Epoch: 8 [22400/60000 (37%)]\tLoss: 0.211403\n",
            "Train Epoch: 8 [23040/60000 (38%)]\tLoss: 0.146259\n",
            "Train Epoch: 8 [23680/60000 (39%)]\tLoss: 0.104740\n",
            "Train Epoch: 8 [24320/60000 (41%)]\tLoss: 0.240350\n",
            "Train Epoch: 8 [24960/60000 (42%)]\tLoss: 0.312885\n",
            "Train Epoch: 8 [25600/60000 (43%)]\tLoss: 0.192068\n",
            "Train Epoch: 8 [26240/60000 (44%)]\tLoss: 0.250826\n",
            "Train Epoch: 8 [26880/60000 (45%)]\tLoss: 0.128270\n",
            "Train Epoch: 8 [27520/60000 (46%)]\tLoss: 0.114192\n",
            "Train Epoch: 8 [28160/60000 (47%)]\tLoss: 0.085565\n",
            "Train Epoch: 8 [28800/60000 (48%)]\tLoss: 0.291270\n",
            "Train Epoch: 8 [29440/60000 (49%)]\tLoss: 0.122535\n",
            "Train Epoch: 8 [30080/60000 (50%)]\tLoss: 0.082215\n",
            "Train Epoch: 8 [30720/60000 (51%)]\tLoss: 0.102855\n",
            "Train Epoch: 8 [31360/60000 (52%)]\tLoss: 0.120090\n",
            "Train Epoch: 8 [32000/60000 (53%)]\tLoss: 0.066767\n",
            "Train Epoch: 8 [32640/60000 (54%)]\tLoss: 0.118200\n",
            "Train Epoch: 8 [33280/60000 (55%)]\tLoss: 0.192949\n",
            "Train Epoch: 8 [33920/60000 (57%)]\tLoss: 0.066437\n",
            "Train Epoch: 8 [34560/60000 (58%)]\tLoss: 0.204117\n",
            "Train Epoch: 8 [35200/60000 (59%)]\tLoss: 0.170272\n",
            "Train Epoch: 8 [35840/60000 (60%)]\tLoss: 0.310082\n",
            "Train Epoch: 8 [36480/60000 (61%)]\tLoss: 0.420140\n",
            "Train Epoch: 8 [37120/60000 (62%)]\tLoss: 0.145522\n",
            "Train Epoch: 8 [37760/60000 (63%)]\tLoss: 0.149667\n",
            "Train Epoch: 8 [38400/60000 (64%)]\tLoss: 0.232605\n",
            "Train Epoch: 8 [39040/60000 (65%)]\tLoss: 0.166688\n",
            "Train Epoch: 8 [39680/60000 (66%)]\tLoss: 0.201850\n",
            "Train Epoch: 8 [40320/60000 (67%)]\tLoss: 0.236855\n",
            "Train Epoch: 8 [40960/60000 (68%)]\tLoss: 0.072046\n",
            "Train Epoch: 8 [41600/60000 (69%)]\tLoss: 0.138940\n",
            "Train Epoch: 8 [42240/60000 (70%)]\tLoss: 0.287901\n",
            "Train Epoch: 8 [42880/60000 (71%)]\tLoss: 0.317575\n",
            "Train Epoch: 8 [43520/60000 (72%)]\tLoss: 0.151559\n",
            "Train Epoch: 8 [44160/60000 (74%)]\tLoss: 0.327435\n",
            "Train Epoch: 8 [44800/60000 (75%)]\tLoss: 0.161249\n",
            "Train Epoch: 8 [45440/60000 (76%)]\tLoss: 0.054656\n",
            "Train Epoch: 8 [46080/60000 (77%)]\tLoss: 0.312959\n",
            "Train Epoch: 8 [46720/60000 (78%)]\tLoss: 0.072042\n",
            "Train Epoch: 8 [47360/60000 (79%)]\tLoss: 0.177502\n",
            "Train Epoch: 8 [48000/60000 (80%)]\tLoss: 0.144132\n",
            "Train Epoch: 8 [48640/60000 (81%)]\tLoss: 0.152432\n",
            "Train Epoch: 8 [49280/60000 (82%)]\tLoss: 0.123587\n",
            "Train Epoch: 8 [49920/60000 (83%)]\tLoss: 0.310539\n",
            "Train Epoch: 8 [50560/60000 (84%)]\tLoss: 0.149970\n",
            "Train Epoch: 8 [51200/60000 (85%)]\tLoss: 0.117255\n",
            "Train Epoch: 8 [51840/60000 (86%)]\tLoss: 0.307336\n",
            "Train Epoch: 8 [52480/60000 (87%)]\tLoss: 0.133629\n",
            "Train Epoch: 8 [53120/60000 (88%)]\tLoss: 0.096714\n",
            "Train Epoch: 8 [53760/60000 (90%)]\tLoss: 0.308433\n",
            "Train Epoch: 8 [54400/60000 (91%)]\tLoss: 0.051900\n",
            "Train Epoch: 8 [55040/60000 (92%)]\tLoss: 0.352132\n",
            "Train Epoch: 8 [55680/60000 (93%)]\tLoss: 0.260725\n",
            "Train Epoch: 8 [56320/60000 (94%)]\tLoss: 0.054958\n",
            "Train Epoch: 8 [56960/60000 (95%)]\tLoss: 0.185784\n",
            "Train Epoch: 8 [57600/60000 (96%)]\tLoss: 0.129440\n",
            "Train Epoch: 8 [58240/60000 (97%)]\tLoss: 0.475286\n",
            "Train Epoch: 8 [58880/60000 (98%)]\tLoss: 0.119812\n",
            "Train Epoch: 8 [59520/60000 (99%)]\tLoss: 0.153974\n",
            "\n",
            "Test set: Avg. loss: 0.0554, Accuracy: 9823/10000 (98%)\n",
            "\n"
          ],
          "name": "stdout"
        },
        {
          "output_type": "execute_result",
          "data": {
            "text/plain": [
              "Text(0, 0.5, 'negative log likelihood loss')"
            ]
          },
          "metadata": {
            "tags": []
          },
          "execution_count": 84
        },
        {
          "output_type": "display_data",
          "data": {
            "image/png": "[encoded data removed]",
            "text/plain": [
              "<Figure size 432x288 with 1 Axes>"
            ]
          },
          "metadata": {
            "tags": [],
            "needs_background": "light"
          }
        }
      ]
    },
    {
      "cell_type": "code",
      "metadata": {
        "id": "xVw6csVbRN1q"
      },
      "source": [
        ""
      ],
      "execution_count": 84,
      "outputs": []
    }
  ]
}